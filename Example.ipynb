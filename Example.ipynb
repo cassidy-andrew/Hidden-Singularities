{
 "cells": [
  {
   "cell_type": "markdown",
   "metadata": {},
   "source": [
    "## Heading\n",
    "This is an example of markdown text.\n",
    "\n",
    "### New section\n",
    "One can easily include equations<br>\n",
    "$\\hat{Y} = \\hat{\\beta}_{0} + \\sum \\limits _{j=1} ^{p} X_{j}\\hat{\\beta}_{j}$ &emsp; (Eq. 1)\n",
    "\n",
    "and other guides for the reader, or long paragraphs with references.[1]\n",
    "\n",
    "\n",
    "\n",
    "***\n",
    "#### Bibliography\n",
    "[1] Lasser, J. Creating an executable paper is a journey through Open Science. *Commun Phys* 3, 143 **2020**. https://doi.org/10.1038/s42005-020-00403-4\n",
    "\n",
    "\n"
   ]
  },
  {
   "cell_type": "markdown",
   "metadata": {},
   "source": [
    "### Preamble"
   ]
  },
  {
   "cell_type": "code",
   "execution_count": 25,
   "metadata": {},
   "outputs": [],
   "source": [
    "import numpy as np\n",
    "from numpy import exp\n",
    "import scipy as sp\n",
    "from scipy.optimize import curve_fit\n",
    "import matplotlib.pyplot as plt\n",
    "import matplotlib as mpl\n",
    "import os\n",
    "mpl.rcParams.update({'font.size': 18, 'font.family': 'sans-serif'})\n",
    "from cycler import cycler\n",
    "\n",
    "\n",
    "color = mpl.cm.nipy_spectral(np.linspace(0, 1, 13))\n",
    "mpl.rcParams['axes.prop_cycle'] = cycler('color', color)"
   ]
  },
  {
   "cell_type": "code",
   "execution_count": 28,
   "metadata": {},
   "outputs": [
    {
     "ename": "OSError",
     "evalue": "Example data\\R64903.dat not found.",
     "output_type": "error",
     "traceback": [
      "\u001b[1;31m---------------------------------------------------------------------------\u001b[0m",
      "\u001b[1;31mOSError\u001b[0m                                   Traceback (most recent call last)",
      "\u001b[1;32m<ipython-input-28-04f720559019>\u001b[0m in \u001b[0;36m<module>\u001b[1;34m\u001b[0m\n\u001b[0;32m      8\u001b[0m \u001b[1;33m\u001b[0m\u001b[0m\n\u001b[0;32m      9\u001b[0m \u001b[1;31m#define wavelengh (wl) i0 (measured intensity) and i0_curr (beamcurrent) as an array of strings, made up of floats, by extracting columns 0,1,6 from the text file\u001b[0m\u001b[1;33m\u001b[0m\u001b[1;33m\u001b[0m\u001b[1;33m\u001b[0m\u001b[0m\n\u001b[1;32m---> 10\u001b[1;33m \u001b[0mwl\u001b[0m\u001b[1;33m,\u001b[0m \u001b[0mi0\u001b[0m\u001b[1;33m,\u001b[0m \u001b[0mi0_curr\u001b[0m \u001b[1;33m=\u001b[0m \u001b[0mnp\u001b[0m\u001b[1;33m.\u001b[0m\u001b[0mloadtxt\u001b[0m\u001b[1;33m(\u001b[0m\u001b[0mbackground\u001b[0m\u001b[1;33m,\u001b[0m \u001b[0mdtype\u001b[0m\u001b[1;33m=\u001b[0m\u001b[0mfloat\u001b[0m\u001b[1;33m,\u001b[0m \u001b[0mdelimiter\u001b[0m\u001b[1;33m=\u001b[0m\u001b[1;32mNone\u001b[0m\u001b[1;33m,\u001b[0m \u001b[0mskiprows\u001b[0m\u001b[1;33m=\u001b[0m\u001b[1;36m18\u001b[0m\u001b[1;33m,\u001b[0m \u001b[0musecols\u001b[0m\u001b[1;33m=\u001b[0m\u001b[1;33m(\u001b[0m\u001b[1;36m0\u001b[0m\u001b[1;33m,\u001b[0m\u001b[1;36m1\u001b[0m\u001b[1;33m,\u001b[0m\u001b[1;36m6\u001b[0m\u001b[1;33m)\u001b[0m\u001b[1;33m,\u001b[0m \u001b[0munpack\u001b[0m\u001b[1;33m=\u001b[0m\u001b[1;32mTrue\u001b[0m\u001b[1;33m)\u001b[0m\u001b[1;33m\u001b[0m\u001b[1;33m\u001b[0m\u001b[0m\n\u001b[0m\u001b[0;32m     11\u001b[0m \u001b[1;31m#then normalise to the beamcurrent\u001b[0m\u001b[1;33m\u001b[0m\u001b[1;33m\u001b[0m\u001b[1;33m\u001b[0m\u001b[0m\n\u001b[0;32m     12\u001b[0m \u001b[0mi0_norm\u001b[0m \u001b[1;33m=\u001b[0m \u001b[0mi0\u001b[0m\u001b[1;33m/\u001b[0m\u001b[0mi0_curr\u001b[0m\u001b[1;33m*\u001b[0m\u001b[1;36m180\u001b[0m\u001b[1;33m\u001b[0m\u001b[1;33m\u001b[0m\u001b[0m\n",
      "\u001b[1;32m~\\AppData\\Local\\Continuum\\anaconda3\\lib\\site-packages\\numpy\\lib\\npyio.py\u001b[0m in \u001b[0;36mloadtxt\u001b[1;34m(fname, dtype, comments, delimiter, converters, skiprows, usecols, unpack, ndmin, encoding, max_rows)\u001b[0m\n\u001b[0;32m    960\u001b[0m             \u001b[0mfname\u001b[0m \u001b[1;33m=\u001b[0m \u001b[0mos_fspath\u001b[0m\u001b[1;33m(\u001b[0m\u001b[0mfname\u001b[0m\u001b[1;33m)\u001b[0m\u001b[1;33m\u001b[0m\u001b[1;33m\u001b[0m\u001b[0m\n\u001b[0;32m    961\u001b[0m         \u001b[1;32mif\u001b[0m \u001b[0m_is_string_like\u001b[0m\u001b[1;33m(\u001b[0m\u001b[0mfname\u001b[0m\u001b[1;33m)\u001b[0m\u001b[1;33m:\u001b[0m\u001b[1;33m\u001b[0m\u001b[1;33m\u001b[0m\u001b[0m\n\u001b[1;32m--> 962\u001b[1;33m             \u001b[0mfh\u001b[0m \u001b[1;33m=\u001b[0m \u001b[0mnp\u001b[0m\u001b[1;33m.\u001b[0m\u001b[0mlib\u001b[0m\u001b[1;33m.\u001b[0m\u001b[0m_datasource\u001b[0m\u001b[1;33m.\u001b[0m\u001b[0mopen\u001b[0m\u001b[1;33m(\u001b[0m\u001b[0mfname\u001b[0m\u001b[1;33m,\u001b[0m \u001b[1;34m'rt'\u001b[0m\u001b[1;33m,\u001b[0m \u001b[0mencoding\u001b[0m\u001b[1;33m=\u001b[0m\u001b[0mencoding\u001b[0m\u001b[1;33m)\u001b[0m\u001b[1;33m\u001b[0m\u001b[1;33m\u001b[0m\u001b[0m\n\u001b[0m\u001b[0;32m    963\u001b[0m             \u001b[0mfencoding\u001b[0m \u001b[1;33m=\u001b[0m \u001b[0mgetattr\u001b[0m\u001b[1;33m(\u001b[0m\u001b[0mfh\u001b[0m\u001b[1;33m,\u001b[0m \u001b[1;34m'encoding'\u001b[0m\u001b[1;33m,\u001b[0m \u001b[1;34m'latin1'\u001b[0m\u001b[1;33m)\u001b[0m\u001b[1;33m\u001b[0m\u001b[1;33m\u001b[0m\u001b[0m\n\u001b[0;32m    964\u001b[0m             \u001b[0mfh\u001b[0m \u001b[1;33m=\u001b[0m \u001b[0miter\u001b[0m\u001b[1;33m(\u001b[0m\u001b[0mfh\u001b[0m\u001b[1;33m)\u001b[0m\u001b[1;33m\u001b[0m\u001b[1;33m\u001b[0m\u001b[0m\n",
      "\u001b[1;32m~\\AppData\\Local\\Continuum\\anaconda3\\lib\\site-packages\\numpy\\lib\\_datasource.py\u001b[0m in \u001b[0;36mopen\u001b[1;34m(path, mode, destpath, encoding, newline)\u001b[0m\n\u001b[0;32m    264\u001b[0m \u001b[1;33m\u001b[0m\u001b[0m\n\u001b[0;32m    265\u001b[0m     \u001b[0mds\u001b[0m \u001b[1;33m=\u001b[0m \u001b[0mDataSource\u001b[0m\u001b[1;33m(\u001b[0m\u001b[0mdestpath\u001b[0m\u001b[1;33m)\u001b[0m\u001b[1;33m\u001b[0m\u001b[1;33m\u001b[0m\u001b[0m\n\u001b[1;32m--> 266\u001b[1;33m     \u001b[1;32mreturn\u001b[0m \u001b[0mds\u001b[0m\u001b[1;33m.\u001b[0m\u001b[0mopen\u001b[0m\u001b[1;33m(\u001b[0m\u001b[0mpath\u001b[0m\u001b[1;33m,\u001b[0m \u001b[0mmode\u001b[0m\u001b[1;33m,\u001b[0m \u001b[0mencoding\u001b[0m\u001b[1;33m=\u001b[0m\u001b[0mencoding\u001b[0m\u001b[1;33m,\u001b[0m \u001b[0mnewline\u001b[0m\u001b[1;33m=\u001b[0m\u001b[0mnewline\u001b[0m\u001b[1;33m)\u001b[0m\u001b[1;33m\u001b[0m\u001b[1;33m\u001b[0m\u001b[0m\n\u001b[0m\u001b[0;32m    267\u001b[0m \u001b[1;33m\u001b[0m\u001b[0m\n\u001b[0;32m    268\u001b[0m \u001b[1;33m\u001b[0m\u001b[0m\n",
      "\u001b[1;32m~\\AppData\\Local\\Continuum\\anaconda3\\lib\\site-packages\\numpy\\lib\\_datasource.py\u001b[0m in \u001b[0;36mopen\u001b[1;34m(self, path, mode, encoding, newline)\u001b[0m\n\u001b[0;32m    622\u001b[0m                                       encoding=encoding, newline=newline)\n\u001b[0;32m    623\u001b[0m         \u001b[1;32melse\u001b[0m\u001b[1;33m:\u001b[0m\u001b[1;33m\u001b[0m\u001b[1;33m\u001b[0m\u001b[0m\n\u001b[1;32m--> 624\u001b[1;33m             \u001b[1;32mraise\u001b[0m \u001b[0mIOError\u001b[0m\u001b[1;33m(\u001b[0m\u001b[1;34m\"%s not found.\"\u001b[0m \u001b[1;33m%\u001b[0m \u001b[0mpath\u001b[0m\u001b[1;33m)\u001b[0m\u001b[1;33m\u001b[0m\u001b[1;33m\u001b[0m\u001b[0m\n\u001b[0m\u001b[0;32m    625\u001b[0m \u001b[1;33m\u001b[0m\u001b[0m\n\u001b[0;32m    626\u001b[0m \u001b[1;33m\u001b[0m\u001b[0m\n",
      "\u001b[1;31mOSError\u001b[0m: Example data\\R64903.dat not found."
     ]
    }
   ],
   "source": [
    "folder_name='\\\\Exampledata'\n",
    "#basename='52K_15s_long'\n",
    "bkg_file='R64903'\n",
    "data_file='R65096'\n",
    "\n",
    "#identify the file name as a string \n",
    "background=(\"Example data\\\\\"+bkg_file+\".dat\")\n",
    "\n",
    "#define wavelengh (wl) i0 (measured intensity) and i0_curr (beamcurrent) as an array of strings, made up of floats, by extracting columns 0,1,6 from the text file\n",
    "wl, i0, i0_curr = np.loadtxt(background, dtype=float, delimiter=None, skiprows=18, usecols=(0,1,6), unpack=True)\n",
    "#then normalise to the beamcurrent\n",
    "i0_norm = i0/i0_curr*180\n",
    "\n",
    "res = np.array([])\n",
    "\n",
    "data=(\"Example data\\\\\"+data_file+\".dat\")\n",
    "it, it_curr = np.loadtxt(data, dtype=float, delimiter=None, skiprows=18, usecols=(1,6),  unpack=True)\n",
    "it_norm = it/it_curr*180\n",
    "absorp=np.log10(i0_norm/it_norm)\n",
    "_bk=min(absorp)\n",
    "absorp_bk=absorp-_bk\n",
    "def _1gaussian(wl,amp1,cen1,sigma1):\n",
    "        return (amp1*(1/(sigma1*(np.sqrt(2*np.pi))))*(np.exp((-1.0/2.0)*(((wl-cen1)/sigma1)**2))))\n",
    "def _2gaussian(wl,amp1,cen1,sigma1,amp2,cen2,sigma2):\n",
    "        return (amp1*(1/(sigma1*(np.sqrt(2*np.pi))))*(np.exp((-1.0/2.0)*(((wl-cen1)/sigma1)**2))) + \\\n",
    "            amp2*(1/(sigma2*(np.sqrt(2*np.pi))))*(np.exp((-1.0/2.0)*(((wl-cen2)/sigma2)**2))))\n",
    "init_vals=[0.78, 191.1, 3, 0.05, 194.0,0.9] # for [amp1, cen1, simgma1, amp2, cen2, simgma2]\n",
    "popt_2gauss, pcov_2gauss = curve_fit(_2gaussian, wl, absorp_bk, p0=init_vals, bounds=([0.7,191,2.5,0,193,0.5],[2,192,6,0.9,194.2,1])\n",
    "                                        ) #use the bonds argument to add limits to the parameters, \n",
    "                                            #the first braket gives the lower limit for all parameteres \n",
    "                                            #and the second brecket gives the upper limit\n",
    "perr_2gauss = np.sqrt(np.diag(pcov_2gauss)) # calculate the err on the fit\n",
    "residual_2gauss = absorp_bk - (_2gaussian(wl, *popt_2gauss)) # make a function to subtract the fit from the data called residuals\n",
    "residuals=sum((absorp_bk-(_2gaussian(wl, *popt_2gauss)))**2)\n",
    "res=np.append(res,(residuals))   \n",
    "    \n",
    "pars_1 = popt_2gauss[0:3] # divide the output parameteres into to arrays, one for the first Gaussian and a 2nd for Gaussian 2\n",
    "pars_2 = popt_2gauss[3:6]\n",
    "pars_err_1 = perr_2gauss[0:3] # divide the output parameteres into to arrays, one for the first Gaussian and a 2nd for Gaussian 2\n",
    "pars_err_2 = perr_2gauss[3:6]\n",
    "    #Define a variable to process these fit values into as arrays:\n",
    "gauss_peak_1 = _1gaussian(wl, *pars_1)\n",
    "gauss_peak_2 = _1gaussian(wl, *pars_2)    \n",
    "\n",
    "print('--------------G1----------------')\n",
    "print (\"amplitude = %0.2f (+/-) %0.2f\" % (pars_1[0], pars_err_1[0]))\n",
    "print (\"center = %0.2f (+/-) %0.2f\" % (pars_1[1], pars_err_1[1]))\n",
    "print (\"sigma = %0.2f (+/-) %0.2f\" % (pars_1[2], pars_err_1[2]))\n",
    "\n",
    "print('--------------G2----------------')\n",
    "print (\"amplitude = %0.2f (+/-) %0.2f\" % (pars_2[0], pars_err_2[0]))\n",
    "print (\"center = %0.2f (+/-) %0.2f\" % (pars_2[1], pars_err_2[1]))\n",
    "print (\"sigma = %0.2f (+/-) %0.2f\" % (pars_2[2], pars_err_2[2]))\n",
    "\n",
    "fig, axs = plt.subplots(2, 1, sharex=True, gridspec_kw={'height_ratios':[3,1]}) # I am making a 2 x 1 row x column grid, when the first row is 3 times the height ofthe2nd\n",
    "# Remove horizontal space between axes\n",
    "fig.subplots_adjust(hspace=0)\n",
    "    \n",
    "fig.suptitle('fit data with 2 Gaussians', family=\"serif\", fontsize=12)\n",
    "plt.xlabel('wavelength / nm', family=\"serif\", fontsize=12)\n",
    "axs[1].plot(wl,residual_2gauss,'go:',label='res')\n",
    "axs[1].legend() \n",
    "axs[1].set_ylabel(\"residuals\",family=\"serif\", fontsize=12)  \n",
    "axs[0].plot(wl,absorp_bk,'b+:',label='data')\n",
    "axs[0].plot(wl,_2gaussian(wl,*popt_2gauss),'r:',label='fit')\n",
    "axs[0].legend()\n",
    "axs[0].plot(wl, gauss_peak_1, \"g\")\n",
    "axs[0].fill_between(wl, gauss_peak_1.min(), gauss_peak_1, facecolor=\"green\", alpha=0.5)\n",
    "axs[0].set_ylabel(\"absorbance\",family=\"serif\", fontsize=12)    \n",
    "axs[0].plot(wl, gauss_peak_2, \"y\")\n",
    "axs[0].fill_between(wl, gauss_peak_2.min(), gauss_peak_2, facecolor=\"yellow\", alpha=0.5)  \n",
    "    \n",
    "plt.show() #This command would plot a different graph for each f\n",
    "   \n",
    "fig.savefig(data_file+' 2G fit to last time point', dpi=300, bbox_inches='tight')\n"
   ]
  },
  {
   "cell_type": "code",
   "execution_count": null,
   "metadata": {},
   "outputs": [],
   "source": []
  }
 ],
 "metadata": {
  "kernelspec": {
   "display_name": "Python 3",
   "language": "python",
   "name": "python3"
  },
  "language_info": {
   "codemirror_mode": {
    "name": "ipython",
    "version": 3
   },
   "file_extension": ".py",
   "mimetype": "text/x-python",
   "name": "python",
   "nbconvert_exporter": "python",
   "pygments_lexer": "ipython3",
   "version": "3.7.4"
  }
 },
 "nbformat": 4,
 "nbformat_minor": 2
}
