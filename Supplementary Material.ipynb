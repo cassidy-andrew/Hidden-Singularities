{
 "cells": [
  {
   "cell_type": "markdown",
   "id": "490a8d2d",
   "metadata": {},
   "source": [
    "# Hidden singularities in the solid state\n",
    "## Supplementary Material\n",
    "\n",
    "_Authors: Andrew Cassidy (1), Frank P. Pijpers (2), David Field (3)_\n",
    "\n",
    "1. [Center for Interstellar Catalysis, Department of Physics and Astronomy, Aarhus University, DK](https://www.phys.au.dk/intercat)\n",
    "2. [Korteweg-de Vries Institute for Mathematics, University of Amsterdam, NL]\n",
    "3. [Department of Physics and Astronomy, Aarhus University, DK](https://www.phys.au.dk)\n"
   ]
  },
  {
   "cell_type": "code",
   "execution_count": null,
   "id": "16306e06",
   "metadata": {},
   "outputs": [],
   "source": []
  },
  {
   "cell_type": "markdown",
   "id": "4a8bb978",
   "metadata": {},
   "source": [
    "### Abstract <a class=\"anchor\" id=\"abstract\"></a>\n",
    "_This letter concerns the properties of thin molecular films, formed by condensation from the gas phase. These films, when composed of small dipolar species, such as nitrous oxide, carbon monoxide, ammonia, an array of alcohols and many others, exhibit spontaneous polarization at sufficiently low deposition temperature. These species demonstrate the so-called ‘spontelectric effect’  resulting in internal electric fields which may exceed 10<sup>8</sup> Vm<sup>-1</sup>. Our focus here is on the functional relationship between the degree of polarization of these films and their temperature of deposition, T. The degree of polarization may be represented as proportional, through the Langevin function,  to Coth($\\xi$/T) - ($\\xi$/T)<sup>-1</sup>, using atomic units. Here $\\xi$ is the energy of interaction of an average dipole with the mean effective field in the film. We see below that the effective field is itself a function of the degree of polarization and show how this relationship, between polarization and deposition temperature, leads to total differentials which may become singular for specific temperature and corresponding polarization._"
   ]
  },
  {
   "cell_type": "markdown",
   "id": "d8ad479a",
   "metadata": {},
   "source": [
    "### S1 Estimates of solid-state dipole moments, $\\mu$ and of the molecular volumes, $\\Omega$. <a class=\"anchor\" id=\"S1\"></a>\n",
    "\n",
    "Estimates of $\\mu$ are obtained using\n",
    "\n",
    "<a class=\"anchor\" id=\"equation_S1\"></a>\n",
    "\n",
    "\\begin{align}\n",
    "\\mathrm{(S1)} \\quad \\mu =  \\frac{\\mu_{0}}{( 1 + \\alpha.k/s ^{3})}  \\label{Eq. 1}\n",
    "\\end{align}\n",
    "\n",
    "where $\\alpha$ is the dipole polarizability, _k_ = 11.034  and _s_ = the effective distance apart of species in the solid state. Values of _s_ are available for cis-MF ,  (_s_ = 0.244 nm)  and NH<sup>3</sup> (_s_ = 0.25365 nm). For 1-butanol and 1-pentanol, values of _s_ are estimated from the molecular volume, $\\Omega$, and through comparison with values of this parameter determined for the similarly glassy solid cis-methyl formate, for which it is found that the separation of species is given by the radius associated with a sphere of volume $\\Omega$. Values of $\\Omega$ ($\\pm$_12%_) are given  by $(\\alpha/0.0084161)^{3/4}$ where polarizabilities may be estimated to be 3.53 x 10<sup>-30</sup> m<sup>3</sup> and 3.73 x 10<sup>-30</sup> m<sup>3</sup> for 1-butanol and 1-pentanol.  This leads to _s_ = 0.293 nm and 0.243 nm for 1-butanol and 1-pentanol, giving solid state dipole moments estimates of 0.433 D and 0.426 D, using (_Eq. S3_), given that gas phase dipole moments, $\\mu_{0}$, are 1.66 D and 1.65 D,  for 1-butanol and 1-pentanol respectively.\n",
    "\n",
    "\n",
    "\n"
   ]
  },
  {
   "cell_type": "markdown",
   "id": "141ce589",
   "metadata": {},
   "source": [
    "### S2 Derivation of eq. 2 of the main text.<a class=\"anchor\" id=\"S2\"></a>\n",
    "\n",
    "The system is treated as an array of dipoles subject to a mean field _E<sub>z</sub>_, with order opposed by thermal motions. The value of $\\mu_{z}/\\mu$ is therefore dictated by the Langevin function.  Hence we may write:\n",
    "\n",
    "<a class=\"anchor\" id=\"equation_S2\"></a>\n",
    "\\begin{align}\n",
    "\\mathrm{(S2)} \\quad \\frac{\\mu_{z}}{\\mu} = \\coth \\left[ \\frac{\\mu.E_{Z}}{T} \\right] -  (\\frac{\\mu E_{Z}}{T})^{-1}\t\t\t\t\t\t\t\t     \t\t\t\t\n",
    "\\end{align}\n",
    "\n",
    "where\n",
    "\n",
    "<a class=\"anchor\" id=\"equation_S3\"></a>\n",
    "\\begin{align}\n",
    "\\mathrm{(S3)} \\quad E_{Z} = E_{S} \\left[ 1+ \\zeta(\\frac{<\\mu_z>}{\\mu})^{2} \\right]  - E_{A}\\frac{<\\mu_z>}{\\mu}\t\t\t\t\t\n",
    "\\end{align}\n",
    "\n",
    "The values of parameters _E<sub>S</sub>_, _E<sub>A</sub>_ and $\\zeta$ may be determined empirically, using methods outlined in [S4](S4). Combining equations S2 and S3, the functional relation between $\\frac{\\mu_{Z}}{\\mu}$ and _T_, _f(T,$\\frac{\\mu_{Z}}{\\mu}$)_, becomes:\n",
    "\n",
    "<a class=\"anchor\" id=\"equation_S4\"></a>\n",
    "\\begin{align}\n",
    "\\mathrm{(S4)} \\quad f(T,\\frac{\\mu_{Z}}{\\mu}) =  \\frac{\\mu_{Z}}{\\mu} = \\coth \\left( \\mu \\left[ E_{S}[1 + \\zeta (\\frac{\\mu_{Z}}{\\mu})^{2}]  - E_{A} \\frac{\\mu_{Z}}{\\mu} \\right] / T \\right) - \\left( \\mu \\left[ E_{S} [ 1 + \\zeta (\\frac{\\mu_{Z}}{\\mu})^{2}]  - E_{A} \\frac{\\mu_{Z}}{\\mu} \\right] /T \\right)^{-1}\n",
    "\\end{align}\n",
    "\n",
    "Note that the rhs of [Eq. 4](equation_S4) tends to zero as _E<sub>Z/</sub>T_ tends to zero. [Eq. 4](equation_4) may be differentiated directly and solved for the total differential $\\frac{d(\\mu_{Z} / \\mu)}{dT}$, to yield Eqs. 2 and 3 of the main paper."
   ]
  },
  {
   "cell_type": "markdown",
   "id": "a9f8f61d",
   "metadata": {},
   "source": [
    "### S3 Proof that $\\frac{d(\\mu_{Z} / \\mu)}{dT}$ [Eq. 2](equation_2) cannot equal zero<a class=\"anchor\" id=\"S2\"></a>\n",
    "\n",
    "\n",
    "We show here that $\\frac{d(\\mu_{Z} / \\mu)}{dT}$ cannot equal zero and therefore that $\\frac{\\mu_{Z}} {\\mu}$ vs _T_ can have no extreme values (or turning points), subject to the condition that all quantities are real and finite. It is sufficient to show that the nominator in [Eq. 2](equation_S2) cannot be zero and therefore we seek to demonstrate that \n",
    "\n",
    "<a class=\"anchor\" id=\"equation_S5\"></a>\n",
    "\\begin{align}\n",
    "\\mathrm{(S5)} \\quad \\frac{1}{\\mu E_{Z}} - \\frac {2 \\mu E_{Z}/ T^{2}} {\\cosh \\left[ (2 \\mu E_{Z} / T ) -1 \\right] }\n",
    "\\end{align}\n",
    "\n",
    "cannot be zero, for all values of _T_ and E<sub>Z</sub> and therefore for all values of parameters E<sub>S</sub>, E<sub>A</sub>, $\\zeta$ and $\\frac{\\mu_{Z}}{\\mu}$. In [Eq. 5](equation_S5), we have rewritten \\DeclareMathOperator{\\csch}{csch} $\\csch^{2} (\\frac{2 \\mu E_{Z}}{T})$ in [Eq. 2] of the main paper as $ \\frac{2} {\\cosh(2\\mu E_{Z} / T ) – 1}$. We now show that for [Eq. S5](equation_S5) to be zero, the necessary condition for an extreme value in $f(T, \\frac{\\mu_{Z}}{\\mu})$, _E<sub>Z</sub>_ or _T_ must themselves be zero. \n",
    "\n",
    "Setting [Eq. S5](equation_S5) to zero and writing _Cosh_ in exponential form, yields:\n",
    "\n",
    "<a class=\"anchor\" id=\"equation_S6\"></a>\n",
    "\\begin{align}\n",
    "\\mathrm{(S6)} \\quad \\left[ exp(\\frac{2 \\mu E_ {Z} }{T}) -1 \\right] ^{2} T^{2} = -4 \\mu E_{Z}^{2} / exp \\left(\\frac{-2 \\mu E_{Z} }{ T} \\right)\t\t\n",
    "\\end{align}\n",
    "\n",
    "Since the lhs must be positive, for real values of the parameters, and the rhs must be negative for all _E<sub>Z</sub>_, [Eq. 6](equation_6) can never hold, save for $E_{Z} = 0$, for which $\\frac{\\mu_{Z}}{\\mu} = 0$. A further root of [Eq. S2](equation_S2) is $T = 0$, which we take to be physically without meaning. With further regard to $E_{Z} = 0$, we note that $Cosh [2\\mu E_{Z}/T -1] \\to 2 \\mu ^{2} E_{Z}^{2} / T^{2}$ in the limit of $E_{Z} \\to 0$. Thus [Eq. 5](equation_5) tends to $(\\mu E_{Z})^{-1} ( 1 - (T^{2}/(2 \\mu ^{2}E_{Z}^{2}))$, that is, to $- \n",
    "\\infty$, showing that [Eq. S5](equation_S5) cannot equal zero, for all _T_. It follows that [Eq. S4](equation_S4) for $f(T,\\frac{\\mu_{Z}}{\\mu})$ does not possess a turning point for any physically realisable values of E<sub>S</sub>, E<sub>A</sub>, $\\zeta$ or $\\frac{\\mu_{Z}}{\\mu}$\n",
    "\n"
   ]
  },
  {
   "cell_type": "markdown",
   "id": "a8cca37c",
   "metadata": {},
   "source": [
    "### preamble to practice R code"
   ]
  },
  {
   "cell_type": "code",
   "execution_count": 228,
   "id": "dd76b10d",
   "metadata": {},
   "outputs": [],
   "source": [
    "library(dplyr)\n",
    "library(data.table)\n",
    "require(graphics)\n",
    "require(ggplot2)\n",
    "\n"
   ]
  },
  {
   "cell_type": "code",
   "execution_count": 251,
   "id": "7dab19d7",
   "metadata": {},
   "outputs": [
    {
     "data": {
      "image/png": "[encoded data removed]",
      "text/plain": [
       "plot without title"
      ]
     },
     "metadata": {},
     "output_type": "display_data"
    }
   ],
   "source": [
    "bkgd <-read.table(\"C:/Users/au302163/HS_21Dec/Exampledata/R64903.dat\", header=TRUE, skip = 15)\n",
    "signal <-read.table(\"C:/Users/au302163/HS_21Dec/Exampledata/R65096.dat\", header=TRUE, skip = 15)\n",
    "#bkgd\n",
    "#data$X.Lambda  #This would print the column called X.Lambda in the arrary called data\n",
    "bkgd_nor <- bkgd$Keith.nA/bkgd$Beam_current*180\n",
    "data_nor <- signal$Keith.nA/signal$Beam_current*180\n",
    "\n",
    "absorb <- log10(bkgd_nor/data_nor)\n",
    "absorb_bk <- absorb - min(absorb)\n",
    "wavelength <- (data$X.Lambda)\n",
    "\n",
    "data_frame <- data.frame(wavelength,absorb_bk)\n",
    "\n",
    "ggplot(data_frame, aes(x=wavelength,y=absorb_bk)) +\n",
    "    geom_point() \n",
    "  \n",
    "#plot(data_frame,\n",
    "#     \"p\", col = \"red\", lwd = 2,\n",
    "#    xlab = \"wavelength / nm\",\n",
    "#    ylab = \"absorbance\",\n",
    "#    main = \"VUV absorbance at 52 K\")"
   ]
  },
  {
   "cell_type": "code",
   "execution_count": 250,
   "id": "be64945a",
   "metadata": {},
   "outputs": [
    {
     "data": {
      "image/png": "[encoded data removed]",
      "text/plain": [
       "plot without title"
      ]
     },
     "metadata": {},
     "output_type": "display_data"
    }
   ],
   "source": [
    "#Gauss =dnorm(wavelength, mean=194, sd = 2)\n",
    "#plot(wavelength,Gauss)"
   ]
  },
  {
   "cell_type": "code",
   "execution_count": 258,
   "id": "377a96fa",
   "metadata": {},
   "outputs": [
    {
     "data": {
      "text/plain": [
       "\n",
       "Formula: absorb_bk ~ TwoGauss(wavelength, y0, s_1, mu_1, amp_1, s_2, mu_2, \n",
       "    amp_2)\n",
       "\n",
       "Parameters:\n",
       "        Estimate Std. Error   t value Pr(>|t|)    \n",
       "y0    -3.150e-03  8.925e-04    -3.529  0.00334 ** \n",
       "mu_1   1.910e+02  1.061e-01  1801.042  < 2e-16 ***\n",
       "mu_2   1.938e+02  1.667e-02 11622.554  < 2e-16 ***\n",
       "s_1    3.382e+00  7.469e-02    45.285  < 2e-16 ***\n",
       "s_2    1.057e+00  2.349e-02    44.984  < 2e-16 ***\n",
       "amp_1  1.060e+00  2.514e-02    42.184 3.71e-16 ***\n",
       "amp_2  1.883e-01  8.473e-03    22.220 2.57e-12 ***\n",
       "---\n",
       "Signif. codes:  0 '***' 0.001 '**' 0.01 '*' 0.05 '.' 0.1 ' ' 1\n",
       "\n",
       "Residual standard error: 0.000932 on 14 degrees of freedom\n",
       "\n",
       "Number of iterations to convergence: 5 \n",
       "Achieved convergence tolerance: 1.582e-06\n"
      ]
     },
     "metadata": {},
     "output_type": "display_data"
    },
    {
     "data": {
      "image/png": "[encoded data removed]",
      "text/plain": [
       "plot without title"
      ]
     },
     "metadata": {},
     "output_type": "display_data"
    }
   ],
   "source": [
    "TwoGauss <- function(wavelength,y0, s_1,mu_1,amp_1,s_2,mu_2,amp_2){\n",
    "    y0 + amp_1*(1/(s_1 * sqrt(2*pi))) * exp(-((wavelength-mu_1)^2)/(2*s_1^2)) + \n",
    "    amp_2*(1/(s_2 * sqrt(2*pi))) * exp(-((wavelength-mu_2)^2)/(2*s_2^2))\n",
    "}\n",
    "    \n",
    "fit_nls <- nls(data=data_frame,\n",
    "               absorb_bk ~ TwoGauss(wavelength, y0, s_1, mu_1, amp_1, s_2, mu_2, amp_2),\n",
    "               start=list(y0=0, mu_1=191.86, mu_2=193.85, s_1=2.8, s_2=.94, amp_1=0.9, amp_2=0.13) # provide starting point\n",
    "               )\n",
    "summary(fit_nls)\n",
    "\n",
    "plot(wavelength, absorb_bk, pch=16)\n",
    "lines(wavelength, predict(fit_nls), col=\"red\", lwd=2)\n"
   ]
  },
  {
   "cell_type": "code",
   "execution_count": 239,
   "id": "a3518a95",
   "metadata": {},
   "outputs": [
    {
     "ename": "ERROR",
     "evalue": "Error in nls(data = (data_frame), y ~ Gauss_1(wavelength, s_1, mu_1, amp_1), : antal iterationer overskred maksimum på 50\n",
     "output_type": "error",
     "traceback": [
      "Error in nls(data = (data_frame), y ~ Gauss_1(wavelength, s_1, mu_1, amp_1), : antal iterationer overskred maksimum på 50\nTraceback:\n",
      "1. nls(data = (data_frame), y ~ Gauss_1(wavelength, s_1, mu_1, amp_1), \n .     start = list(s_1 = 2.8, mu_1 = 191.86, amp_1 = 0.9))"
     ]
    }
   ],
   "source": [
    "#x=wavelength\n",
    "#s_1 = 2.8\n",
    "#mu_1 = 191.86\n",
    "#amp_1 = 0.9\n",
    "\n",
    "#s_2 = 0.94\n",
    "#mu_2 = 193.85\n",
    "#amp_2 = 0.13\n",
    "\n",
    "#Gauss_1 <- function(wavelength,s_1,mu_1,amp_1){amp_1*(1/(s_1 * sqrt(2*pi))) * exp(-((wavelength-mu_1)^2)/(2*s_1^2))}\n",
    "#Gauss_2 <- function(x,s_2,mu_2,amp_2){amp_2*(1/(s_2 * sqrt(2*pi))) * exp(-((x-mu_2)^2)/(2*s_2^2))}\n",
    "\n",
    "TwoGauss <- function(wavelength, y0, x1, x2, A1, A2, sd1, sd2) {\n",
    "    y0 + A1 * dnorm(wavelength, mean=x1, sd = sd1) + A2 * dnorm(wavelength, mean = x2, sd = sd2)\n",
    "}\n",
    "\n",
    "fit_nls <- nls(data=(data_frame),\n",
    "               y ~ TwoGauss(wavelength, y0, x1, x2, A1, A2, sd1, sd2),\n",
    "               start=list(y0=0, x1=191.86, x2=193.85, sd1=2.8, sd2=.94, A1=0.9, A2=0.13) # provide starting point\n",
    "               )\n",
    "summary(fit_nls)\n",
    "\n",
    "#optim(c(s_1,mu_1_amp_1),Gauss_1)\n",
    "\n",
    "fit <- Gauss_1+Gauss_2\n",
    "\n",
    "layout(\n",
    "    matrix(c(1,1,2,2), ncol=2, byrow=TRUE), \n",
    "              widths=c(2,2), \n",
    "              heights=c(2.5,1.5)\n",
    "             )\n",
    "\n",
    "plot (wavelength,absorb_bk, type=\"p\", lwd=1, pch=19)\n",
    "lines(x,Gauss_1, col =\"red\")\n",
    "lines(x,Gauss_2, col =\"red\")\n",
    "lines(x,fit, col =\"red\", lwd =2)\n",
    "\n",
    "polygon(\n",
    "        c(min(x),x,max(x)),\n",
    "        c(min(Gauss_1),Gauss_1,min(Gauss_1)),\n",
    "        col = rgb(0.78, 0.89, 1, alpha = 0.6),\n",
    "        border = \"blue\", lwd = 2 )\n",
    "polygon(\n",
    "        c(min(x),x,max(x)),\n",
    "        c(min(Gauss_2),Gauss_2,min(Gauss_2)),\n",
    "        col = rgb(0.51, 0.44, 1, alpha = 0.6),\n",
    "        border = \"purple\", lwd = 2)   \n",
    "       \n",
    "residuals <- (absorb_bk-fit)\n",
    "plot(wavelength,residuals,\n",
    "    ylab = \"residuals\")"
   ]
  },
  {
   "cell_type": "code",
   "execution_count": null,
   "id": "1ca64418",
   "metadata": {},
   "outputs": [],
   "source": []
  }
 ],
 "metadata": {
  "kernelspec": {
   "display_name": "R",
   "language": "R",
   "name": "ir"
  },
  "language_info": {
   "codemirror_mode": "r",
   "file_extension": ".r",
   "mimetype": "text/x-r-source",
   "name": "R",
   "pygments_lexer": "r",
   "version": "3.6.1"
  }
 },
 "nbformat": 4,
 "nbformat_minor": 5
}
