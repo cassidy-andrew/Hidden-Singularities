{
 "cells": [
  {
   "cell_type": "markdown",
   "id": "7a72ee0d",
   "metadata": {},
   "source": [
    "# Hidden singularities in the solid state\n",
    "## Supplementary Material\n",
    "\n",
    "_Authors: Andrew Cassidy (1), Frank P. Pijpers (2), David Field (3)_\n",
    "\n",
    "1. [Center for Interstellar Catalysis, Department of Physics and Astronomy, Aarhus University, DK](https://www.phys.au.dk/intercat)\n",
    "2. [Korteweg-de Vries Institute for Mathematics, University of Amsterdam, NL]\n",
    "3. [Department of Physics and Astronomy, Aarhus University, DK](https://www.phys.au.dk)\n"
   ]
  },
  {
   "cell_type": "markdown",
   "id": "fa4fd3b0",
   "metadata": {},
   "source": [
    "### Abstract <a class=\"anchor\" id=\"abstract\"></a>\n",
    "_This letter concerns the properties of thin molecular films, formed by condensation from the gas phase. These films, when composed of small dipolar species, such as nitrous oxide, carbon monoxide, ammonia, an array of alcohols and many others, exhibit spontaneous polarization at sufficiently low deposition temperature. These species demonstrate the so-called ‘spontelectric effect’  resulting in internal electric fields which may exceed 10<sup>8</sup> Vm<sup>-1</sup>. Our focus here is on the functional relationship between the degree of polarization of these films and their temperature of deposition, T. The degree of polarization may be represented as proportional, through the Langevin function,  to Coth($\\xi$/T) - ($\\xi$/T)<sup>-1</sup>, using atomic units. Here $\\xi$ is the energy of interaction of an average dipole with the mean effective field in the film. We see below that the effective field is itself a function of the degree of polarization and show how this relationship, between polarization and deposition temperature, leads to total differentials which may become singular for specific temperature and corresponding polarization._"
   ]
  },
  {
   "cell_type": "markdown",
   "id": "4a6d3d49",
   "metadata": {},
   "source": [
    "### S1 Estimates of solid-state dipole moments, $\\mu$ and of the molecular volumes, $\\Omega$. <a class=\"anchor\" id=\"S1\"></a>\n",
    "\n",
    "Estimates of $\\mu$ are obtained using\n",
    "\n",
    "<a class=\"anchor\" id=\"equation_S1\"></a>\n",
    "\n",
    "\\begin{align}\n",
    "\\mathrm{(S1)} \\quad \\mu =  \\frac{\\mu_{0}}{( 1 + \\alpha.k/s ^{3})}  \\label{Eq. 1}\n",
    "\\end{align}\n",
    "\n",
    "where $\\alpha$ is the dipole polarizability, _k_ = 11.034  and _s_ = the effective distance apart of species in the solid state. Values of _s_ are available for cis-MF ,  (_s_ = 0.244 nm)  and NH<sup>3</sup> (_s_ = 0.25365 nm). For 1-butanol and 1-pentanol, values of _s_ are estimated from the molecular volume, $\\Omega$, and through comparison with values of this parameter determined for the similarly glassy solid cis-methyl formate, for which it is found that the separation of species is given by the radius associated with a sphere of volume $\\Omega$. Values of $\\Omega$ ($\\pm$_12%_) are given  by $(\\alpha/0.0084161)^{3/4}$ where polarizabilities may be estimated to be 3.53 x 10<sup>-30</sup> m<sup>3</sup> and 3.73 x 10<sup>-30</sup> m<sup>3</sup> for 1-butanol and 1-pentanol.  This leads to _s_ = 0.293 nm and 0.243 nm for 1-butanol and 1-pentanol, giving solid state dipole moments estimates of 0.433 D and 0.426 D, using (_Eq. S3_), given that gas phase dipole moments, $\\mu_{0}$, are 1.66 D and 1.65 D,  for 1-butanol and 1-pentanol respectively.\n",
    "\n",
    "\n",
    "\n"
   ]
  },
  {
   "cell_type": "markdown",
   "id": "50192276",
   "metadata": {},
   "source": [
    "### S2 Derivation of eq. 2 of the main text.<a class=\"anchor\" id=\"S2\"></a>\n",
    "\n",
    "The system is treated as an array of dipoles subject to a mean field _E<sub>z</sub>_, with order opposed by thermal motions. The value of $\\mu_{z}/\\mu$ is therefore dictated by the Langevin function.  Hence we may write:\n",
    "\n",
    "<a class=\"anchor\" id=\"equation_S2\"></a>\n",
    "\\begin{align}\n",
    "\\mathrm{(S2)} \\quad \\frac{\\mu_{z}}{\\mu} = Coth[\\frac{\\mu.E_{Z}}{T}] -  (\\frac{\\mu E_{Z}}{T})^{-1}\t\t\t\t\t\t\t\t     \t\t\t\t\n",
    "\\end{align}\n",
    "\n",
    "where\n",
    "\n",
    "<a class=\"anchor\" id=\"equation_S3\"></a>\n",
    "\\begin{align}\n",
    "\\mathrm{(S3)} \\quad E_{Z} = E_{S}[1+ \\zeta(\\frac{<\\mu_z>}{\\mu})^{2}]  - E_{A}\\frac{<\\mu_z>}{\\mu}\t\t\t\t\t\n",
    "\\end{align}\n",
    "\n",
    "The values of parameters _E<sub>S</sub>_, _E<sub>A</sub>_ and $\\zeta$ may be determined empirically, using methods outlined in [S4](S4). Combining equations S2 and S3, the functional relation between $\\frac{\\mu_{Z}}{\\mu}$ and _T_, _f(T,$\\frac{\\mu_{Z}}{\\mu}$)_, becomes:\n",
    "\n",
    "<a class=\"anchor\" id=\"equation_S4\"></a>\n",
    "\\begin{align}\n",
    "\\mathrm{(S4)} \\quad f(T,\\frac{\\mu_{Z}}{\\mu}) =  \\frac{\\mu_{Z}}{\\mu} = Coth \\left( \\mu \\left[ E_{S}[1 + \\zeta (\\frac{\\mu_{Z}}{\\mu})^{2}]  - E_{A} \\frac{\\mu_{Z}}{\\mu} \\right] / T \\right) - \\left( \\mu \\left[ E_{S} [ 1 + \\zeta (\\frac{\\mu_{Z}}{\\mu})^{2}]  - E_{A} \\frac{\\mu_{Z}}{\\mu} \\right] /T \\right)^{-1}\n",
    "\\end{align}\n",
    "\n",
    "Note that the rhs of [Eq. 4](equation_S4) tends to zero as _E<sub>Z/</sub>T_ tends to zero. [Eq. 4](equation_4) may be differentiated directly and solved for the total differential $\\frac{d(\\mu_{Z} / \\mu)}{dT}$, to yield Eqs. 2 and 3 of the main paper."
   ]
  },
  {
   "cell_type": "markdown",
   "id": "5b0c06c5",
   "metadata": {},
   "source": [
    "### S3 Proof that $\\frac{d(\\mu_{Z} / \\mu)}{dT}$ [Eq. 2](equation_2) cannot equal zero      \n",
    "\n",
    "We show here that $\\frac{d(\\mu_{Z} / \\mu)}{dT}$ cannot equal zero and therefore that $\\frac{\\mu_{Z}} {\\mu}$ vs _T_ can have no extreme values (or turning points), subject to the condition that all quantities are real and finite. It is sufficient to show that the nominator in [Eq. 2](equation_S2) cannot be zero and therefore we seek to demonstrate that \n",
    "\n",
    "<a class=\"anchor\" id=\"equation_S5\"></a>\n",
    "\\begin{align}\n",
    "\\mathrm{(S5)} \\quad \\frac{1}{\\mu E_{Z}} - \\frac {2 \\mu E_{Z}/ T^{2}} {Cosh \\left[ (2 \\mu E_{Z} / T ) -1 \\right] }\n",
    "\\end{align}\n",
    "\n",
    "cannot be zero, for all values of _T_ and E<sub>Z</sub> and therefore for all values of parameters E<sub>S</sub>, E<sub>A</sub>, $\\zeta$ and $\\frac{\\mu_{Z}}{\\mu}$. In [Eq. 5](equation_S5), we have rewritten $Cosech^{2} (\\frac{2 \\mu E_{Z}}{T})$ in [Eq. 2] of the main paper as $ \\frac{2} {Cosh(2\\mu E_{Z} / T ) – 1}$. We now show that for [Eq. S5](equation_S5) to be zero, the necessary condition for an extreme value in $f(T, \\frac{\\mu_{Z}}{\\mu})$, _E<sub>Z</sub>_ or _T_ must themselves be zero. \n",
    "\n",
    "Setting [Eq. S5](equation_S5) to zero and writing _Cosh_ in exponential form, yields:\n",
    "\n",
    "<a class=\"anchor\" id=\"equation_S6\"></a>\n",
    "\\begin{align}\n",
    "\\mathrm{(S6)} \\quad \\left[ exp(\\frac{2 \\mu E_ {Z} }{T}) -1 \\right] ^{2}.T^{2} = \\frac {-4 \\mu E_{Z}^{2} }{ exp(\\frac{-2 \\mu E_{Z} }{ T})}\t\t\n",
    "\\end{align}\n",
    "\n",
    "Since the lhs must be positive, for real values of the parameters, and the rhs must be negative for all _E<sub>Z</sub>_, [Eq. 6](equation_6) can never hold, save for $E_{Z} = 0$, for which $\\frac{\\mu_{Z}}{\\mu} = 0$. A further root of [Eq. S2](equation_S2) is $T = 0$, which we take to be physically without meaning. With further regard to $E_{Z} = 0$, we note that $Cosh [2\\mu E_{Z}/T -1] \\to 2 \\mu ^{2} E_{Z}^{2} / T^{2}$ in the limit of $E_{Z} \\to 0$. Thus [Eq. 5](equation_5) tends to $(\\mu E_{Z})^{-1} ( 1 - (T^{2}/(2 \\mu ^{2}E_{Z}^{2}))$, that is, to $- \\infty$, showing that [Eq. S5](equation_S5) cannot equal zero, for all _T_. It follows that [Eq. S4](equation_S4) for $f(T,\\frac{\\mu_{Z}}{\\mu})$ does not possess a turning point for any physically realisable values of E<sub>S</sub>, E<sub>A</sub>, $\\zeta$ or $\\frac{\\mu_{Z}}{\\mu}$\n",
    "\n"
   ]
  },
  {
   "cell_type": "code",
   "execution_count": null,
   "id": "1fa16237",
   "metadata": {},
   "outputs": [],
   "source": []
  }
 ],
 "metadata": {
  "kernelspec": {
   "display_name": "R",
   "language": "R",
   "name": "ir"
  },
  "language_info": {
   "codemirror_mode": "r",
   "file_extension": ".r",
   "mimetype": "text/x-r-source",
   "name": "R",
   "pygments_lexer": "r",
   "version": "3.6.1"
  }
 },
 "nbformat": 4,
 "nbformat_minor": 5
}
